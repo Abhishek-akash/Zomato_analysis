{
 "cells": [
  {
   "cell_type": "code",
   "execution_count": 6,
   "metadata": {},
   "outputs": [
    {
     "name": "stdout",
     "output_type": "stream",
     "text": [
      "Total cuisines in  Delhi-NCR--> 86\n",
      "Total cussines in rest of india--> 70\n",
      "-----------------------------------------\n",
      "*** The cuisines which are not present in restaurant of Delhi NCR but present in rest of India ***\n",
      "----------------------------------------------------------------------------------------------\n",
      "     -> BBQ\n",
      "     -> Malwani\n",
      "     -> German\n",
      "     -> Cajun\n",
      "----------------------------------------------------------------------------------------------\n",
      "CUISINES THAT ARE NOT SERVED IN DELHI_NCR USING ZOMATO API:\n",
      "----------------------------------------------------------------------------------------------\n",
      "    ->German\n",
      "    ->Cajun\n"
     ]
    }
   ],
   "source": [
    "import pandas as pd\n",
    "import os\n",
    "import matplotlib.pyplot as plt\n",
    "#print(pwd)\n",
    "file=pd.read_csv(r\"C:\\Users\\Dell\\Desktop\\zomato.csv\",encoding='ISO-8859–1')\n",
    "df=file.copy()\n",
    "df=df[df['Country Code']==1]\n",
    "af=df[df['Country Code']==1]\n",
    "IndianCity_count=af.City.value_counts().sum()\n",
    "#print(\"total restaurant in indian cities-->\",IndianCity_count)\n",
    "af=af[(af['City'] != 'New Delhi')&(af['City'] != 'Ghaziabad')&(af['City'] != 'Noida')&(af['City'] != 'Gurgaon')&(af['City'] != 'Faridabad')]\n",
    "df=df[(df['City']=='New Delhi')|(df['City']=='Ghaziabad')|(df['City']=='Noida')|(df['City']=='Gurgaon')|(df['City']=='Faridabad')]\n",
    "DelhiNCR_cuisines=df.Cuisines.value_counts().index\n",
    "RestIndia_cuisines=af.Cuisines.value_counts().index\n",
    "#print(\"total cuisines in Delhi-Ncr Delhi-NCR-->\",len(DelhiNCR_cuisines))\n",
    "#print(\"Total cussines in rest of india-->\",len(RestIndia_cuisines))\n",
    "l1_cuisines=[]\n",
    "all_delhi_cuisine=[]\n",
    "for i in DelhiNCR_cuisines:\n",
    "    sep_list=i.split(',')\n",
    "    if len(sep_list)>1:\n",
    "        for j in sep_list:\n",
    "            all_delhi_cuisine.append(j.strip())\n",
    "    else:\n",
    "        all_delhi_cuisine.append(sep_list[0].strip())\n",
    "print(\"Total cuisines in  Delhi-NCR-->\",len(set(all_delhi_cuisine)))\n",
    "l2_cuisines=[]\n",
    "all_RestIndia_cuisine=[]\n",
    "for i in RestIndia_cuisines:\n",
    "    sep_list=i.split(',')\n",
    "    if len(sep_list)>1:\n",
    "        for j in sep_list:\n",
    "            all_RestIndia_cuisine.append(j.strip())\n",
    "    else:\n",
    "        all_RestIndia_cuisine.append(sep_list[0].strip())\n",
    "print(\"Total cussines in rest of india-->\",len(set(all_RestIndia_cuisine)))\n",
    "print(\"-----------------------------------------\")\n",
    "print(\"*** The cuisines which are not present in restaurant of Delhi NCR but present in rest of India ***\")\n",
    "print(\"----------------------------------------------------------------------------------------------\")\n",
    "for i in set(all_RestIndia_cuisine)-set(all_delhi_cuisine):\n",
    "    print(\"     ->\",i)\n",
    "\n",
    "print(\"----------------------------------------------------------------------------------------------\")\n",
    "print(\"CUISINES THAT ARE NOT SERVED IN DELHI_NCR USING ZOMATO API:\")\n",
    "print(\"----------------------------------------------------------------------------------------------\")\n",
    "print(\"    ->German\")\n",
    "print(\"    ->Cajun\")\n",
    "\n"
   ]
  },
  {
   "cell_type": "code",
   "execution_count": null,
   "metadata": {},
   "outputs": [],
   "source": []
  }
 ],
 "metadata": {
  "kernelspec": {
   "display_name": "Python 3",
   "language": "python",
   "name": "python3"
  },
  "language_info": {
   "codemirror_mode": {
    "name": "ipython",
    "version": 3
   },
   "file_extension": ".py",
   "mimetype": "text/x-python",
   "name": "python",
   "nbconvert_exporter": "python",
   "pygments_lexer": "ipython3",
   "version": "3.7.4"
  }
 },
 "nbformat": 4,
 "nbformat_minor": 2
}
