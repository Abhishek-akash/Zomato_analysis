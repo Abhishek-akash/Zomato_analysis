{
 "cells": [
  {
   "cell_type": "code",
   "execution_count": 14,
   "metadata": {},
   "outputs": [
    {
     "name": "stdout",
     "output_type": "stream",
     "text": [
      "total restaurant in indian cities--> 8652\n",
      "total restaurant in Delhi-Ncr Delhi-NCR--> 7947\n",
      "Total restaurant in rest of india--> 705\n"
     ]
    },
    {
     "data": {
      "image/png": "[encoded data removed]",
      "text/plain": [
       "<Figure size 432x216 with 1 Axes>"
      ]
     },
     "metadata": {
      "needs_background": "light"
     },
     "output_type": "display_data"
    }
   ],
   "source": [
    "#import csv\n",
    "import pandas as pd\n",
    "import os\n",
    "import matplotlib.pyplot as plt\n",
    "#print(pwd)\n",
    "file=pd.read_csv(r\"C:\\Users\\Dell\\Desktop\\zomato.csv\",encoding='ISO-8859–1')\n",
    "df=file.copy()\n",
    "af=df[df['Country Code']==1]\n",
    "IndianCity_count=af.City.value_counts().sum()\n",
    "print(\"total restaurant in indian cities-->\",IndianCity_count)\n",
    "df=df[(df['City']=='New Delhi')|(df['City']=='Ghaziabad')|(df['City']=='Noida')|(df['City']=='Gurgaon')|(df['City']=='Faridabad')]\n",
    "DelhiNCR_count=df.City.value_counts().sum()\n",
    "print(\"total restaurant in Delhi-Ncr Delhi-NCR-->\",DelhiNCR_count)\n",
    "print(\"Total restaurant in rest of india-->\",IndianCity_count-DelhiNCR_count)\n",
    "y_city=[\"Delhi-NCR\",\"Rest Indian Cities\"]\n",
    "x_Counts=[DelhiNCR_count,IndianCity_count-DelhiNCR_count]\n",
    "plt.rcParams[\"figure.figsize\"] = (6,3)\n",
    "plt.bar(y_city,x_Counts,width=0.2)\n",
    "# plt.xlabel(\"City\").set_color('r')\n",
    "# plt.ylabel(\"Weighted Restaurant Rating\").set_color('r')\n",
    "plt.title(\"Number of restaurant in indian cities\",c='r')\n",
    "#plt.axis('equal')\n",
    "plt.xticks(rotation=20)\n",
    "plt.show()\n"
   ]
  },
  {
   "cell_type": "code",
   "execution_count": null,
   "metadata": {},
   "outputs": [],
   "source": []
  },
  {
   "cell_type": "code",
   "execution_count": null,
   "metadata": {},
   "outputs": [],
   "source": []
  },
  {
   "cell_type": "code",
   "execution_count": null,
   "metadata": {},
   "outputs": [],
   "source": []
  }
 ],
 "metadata": {
  "kernelspec": {
   "display_name": "Python 3",
   "language": "python",
   "name": "python3"
  },
  "language_info": {
   "codemirror_mode": {
    "name": "ipython",
    "version": 3
   },
   "file_extension": ".py",
   "mimetype": "text/x-python",
   "name": "python",
   "nbconvert_exporter": "python",
   "pygments_lexer": "ipython3",
   "version": "3.7.4"
  }
 },
 "nbformat": 4,
 "nbformat_minor": 2
}
