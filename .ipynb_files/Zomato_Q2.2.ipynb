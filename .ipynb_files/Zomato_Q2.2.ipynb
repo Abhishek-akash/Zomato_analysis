{
 "cells": [
  {
   "cell_type": "code",
   "execution_count": 10,
   "metadata": {},
   "outputs": [
    {
     "name": "stdout",
     "output_type": "stream",
     "text": [
      "---------------------***********--------------------------\n",
      "Top 10 Locality on the basis of Weighted Restaurant Rating \n",
      "----------------------------------------------------------\n",
      "Locality\n",
      "Old Dutch Hospital, Fort       4.9\n",
      "The Milk District              4.9\n",
      "Kenwood                        4.9\n",
      "Aminabad                       4.9\n",
      "Deira City Centre Area         4.9\n",
      "Lexington Street, Soho         4.9\n",
      "Venetian Village, Al Maqtaa    4.9\n",
      "DIFC                           4.9\n",
      "Paia                           4.9\n",
      "City and Suburban              4.9\n",
      "dtype: float64\n"
     ]
    }
   ],
   "source": [
    "import pandas as pd\n",
    "import numpy as np\n",
    "import collections\n",
    "import matplotlib.pyplot as plt\n",
    "file=pd.read_csv(r\"C:\\Users\\Dell\\Desktop\\zomato.csv\",encoding='ISO-8859–1')\n",
    "df=file.copy()\n",
    "df['Aggregate rating'].dropna(inplace=True)\n",
    "df['Votes'].dropna(inplace=True)\n",
    "df.reset_index()\n",
    "res=df.Locality.value_counts()\n",
    "df['weighted']=df['Aggregate rating']*df['Votes']\n",
    "print(\"---------------------***********--------------------------\")\n",
    "print(\"Top 10 Locality on the basis of Weighted Restaurant Rating \")\n",
    "print(\"----------------------------------------------------------\")\n",
    "print((df.groupby(\"Locality\")[\"weighted\"].sum()/df.groupby(\"Locality\")[\"Votes\"].sum()).sort_values(ascending=False)[0:10])\n",
    "\n",
    "\n",
    "# Numerator=df.groupby('Locality')['weighted'].sum()#Σ (number of votes * rating)\n",
    "# Denominator=df.groupby('Locality')['Votes'].sum()#Σ (number of votes) \n",
    "# res_dict={} #will have the Weighted Restaurant Rating of all Locality\n",
    "# WRR=[]       \n",
    "# for i in range(len(Denominator)):\n",
    "#     WRR.append(round(Numerator[i]/Denominator[i],2))\n",
    "# #print(WRR)\n",
    "# for i in range(len(WRR)):\n",
    "#     res_dict[res.index[i]]=WRR[i]\n",
    "# sorted_dict=collections.OrderedDict(sorted(res_dict.items(),key=lambda x:x[1],reverse=True))\n",
    "# print(\"***------------------------------------------------------***\")\n",
    "# print(\"Top 10 Locality on the basis of Weighted Restaurant Rating \")\n",
    "# print(\"----------------------------------------------------------\")\n",
    "# count=0\n",
    "# for key,value in sorted_dict.items():\n",
    "#     if count<10:\n",
    "#         print(key,\"-->\",value)\n",
    "#         count+=1\n",
    "#     else:\n",
    "#         break\n",
    "\n"
   ]
  },
  {
   "cell_type": "code",
   "execution_count": null,
   "metadata": {},
   "outputs": [],
   "source": []
  }
 ],
 "metadata": {
  "kernelspec": {
   "display_name": "Python 3",
   "language": "python",
   "name": "python3"
  },
  "language_info": {
   "codemirror_mode": {
    "name": "ipython",
    "version": 3
   },
   "file_extension": ".py",
   "mimetype": "text/x-python",
   "name": "python",
   "nbconvert_exporter": "python",
   "pygments_lexer": "ipython3",
   "version": "3.7.4"
  }
 },
 "nbformat": 4,
 "nbformat_minor": 2
}
